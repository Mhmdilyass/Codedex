{
 "cells": [
  {
   "cell_type": "markdown",
   "metadata": {},
   "source": [
    "# GIF Project - Codedex\n",
    "\n",
    "Author   : Muhamad Ilyas\n",
    "\n",
    "LinkedIn : [Click here](https://www.linkedin.com/in/muhamad-ilyas22/)"
   ]
  },
  {
   "cell_type": "markdown",
   "metadata": {},
   "source": [
    "## Introduction\n",
    "Graphics Interchange Format (GIF) is great for creating animated images. The format has been around since 1987 and helped define the early internet. It's used to display memes, graphics, logos, and it's everywhere - on websites, text message, and social media\n",
    "\n",
    "GIFs are 'animated images' because they aren't exaclty like video. They are more like flipbooks; They don't have sound and flip through multiple pictures sequentially"
   ]
  },
  {
   "cell_type": "markdown",
   "metadata": {},
   "source": [
    "In this project, i will re-create the famous patrick meme\n",
    "\n",
    "![alt text](Patrick-1.gif)"
   ]
  },
  {
   "cell_type": "markdown",
   "metadata": {},
   "source": [
    "## Import package\n"
   ]
  },
  {
   "cell_type": "markdown",
   "metadata": {},
   "source": [
    "Python has a library called `imageio` which provides an easy interface to read and write a wide range of image data. \n",
    "\n",
    "First, install `imageio` using pip in command prompt "
   ]
  },
  {
   "cell_type": "markdown",
   "metadata": {},
   "source": [
    "After succesfully install the package, import `imageio` in code below"
   ]
  },
  {
   "cell_type": "code",
   "execution_count": null,
   "metadata": {},
   "outputs": [],
   "source": [
    "import imageio.v3 as iio"
   ]
  },
  {
   "cell_type": "markdown",
   "metadata": {},
   "source": [
    "The \"v3\" in the import statement means we're using version 3 of the `imageio` library. The as part allow us to give the library a shorter name to work with (a nickname/alias), making it more convenient. So we've renamed `imageio.v3` to iio and run the code"
   ]
  },
  {
   "cell_type": "markdown",
   "metadata": {},
   "source": [
    "## Import image"
   ]
  },
  {
   "cell_type": "markdown",
   "metadata": {},
   "source": [
    "Here are two images that we use for this project \n",
    "1) [Image 1.jpg](https://drive.google.com/file/d/1vVCnMB8y0Bgwgb9RNaY_hp_eCf4O6-eE/view?usp=sharing)\n",
    "   \n",
    "   ![alt text](<Image 1-2.jpg>)\n",
    "2) [Image 2.jpg](https://drive.google.com/file/d/13TkoQB4PYsr1dvbnm7kpF8JFOzCqfZgR/view?usp=sharing)\n",
    "   \n",
    "   ![alt text](<Image 2-1.jpg>)"
   ]
  },
  {
   "cell_type": "markdown",
   "metadata": {},
   "source": [
    "Make sure to store the image files in the same folder as python program\n",
    "\n",
    "We'll create a list that contains the location of the image files. We also need to create an empty list that will be used to store the actual image data from these files."
   ]
  },
  {
   "cell_type": "code",
   "execution_count": null,
   "metadata": {},
   "outputs": [],
   "source": [
    "filenames = ['Image 1.jpg', 'Image 2.jpg']\n",
    "images = [ ]"
   ]
  },
  {
   "cell_type": "markdown",
   "metadata": {},
   "source": [
    "Next, let’s use a for loop to go through the file paths and read the images using imageio library’s `.imread()` method:"
   ]
  },
  {
   "cell_type": "code",
   "execution_count": null,
   "metadata": {},
   "outputs": [],
   "source": [
    "for filename in filenames:\n",
    "  images.append(iio.imread(filename))"
   ]
  },
  {
   "cell_type": "markdown",
   "metadata": {},
   "source": [
    "The `.imread()` method loads an image based on the file path. So now, our images variable has all the images!\n",
    "\n",
    "Lastly, let’s use the `.imwrite()` method to turn the images into a GIF:"
   ]
  },
  {
   "cell_type": "code",
   "execution_count": null,
   "metadata": {},
   "outputs": [],
   "source": [
    "iio.imwrite('Patrick.gif', images, duration = 500, loop = 0)"
   ]
  },
  {
   "cell_type": "markdown",
   "metadata": {},
   "source": [
    "This takes in four arguments:\n",
    "\n",
    "- `team.gif`: This is the name you want to give to your new GIF file.\n",
    "- `images`: The list containing the image data.\n",
    "- `duration` = 500: How long each picture should show in the GIF, in milliseconds.\n",
    "- `loop` = 0: How many times the GIF should repeat (0 means it keeps looping forever).\n",
    "\n",
    "And that’s it! Here’s the whole program:"
   ]
  },
  {
   "cell_type": "code",
   "execution_count": null,
   "metadata": {},
   "outputs": [],
   "source": [
    "import imageio.v3 as iio\n",
    "\n",
    "\n",
    "filenames = ['Image 1.jpg', 'Image 2.jpg']\n",
    "images = [ ]\n",
    "\n",
    "\n",
    "for filename in filenames:\n",
    "  images.append(iio.imread(filename))\n",
    "\n",
    "\n",
    "iio.imwrite('Patrick.gif', images, duration = 500, loop = 0)"
   ]
  },
  {
   "cell_type": "markdown",
   "metadata": {},
   "source": [
    "## Running the program"
   ]
  },
  {
   "cell_type": "markdown",
   "metadata": {},
   "source": [
    "open a command prompt and use `cd` to change the directory where this project's python files are located"
   ]
  },
  {
   "cell_type": "markdown",
   "metadata": {},
   "source": [
    "this is my python files located"
   ]
  },
  {
   "cell_type": "code",
   "execution_count": null,
   "metadata": {},
   "outputs": [],
   "source": [
    "cd C:\\Users\\--\\---\\project\\Codedex\\GIF>"
   ]
  },
  {
   "cell_type": "markdown",
   "metadata": {},
   "source": [
    "run `python` and the file name"
   ]
  },
  {
   "cell_type": "code",
   "execution_count": null,
   "metadata": {},
   "outputs": [],
   "source": [
    "python GIF.py"
   ]
  },
  {
   "cell_type": "markdown",
   "metadata": {},
   "source": [
    "A new patrick.gif should appear in the same folder : \n",
    "\n",
    "[Here's the result](https://drive.google.com/file/d/1vgrni06QR_piQpDU04IjS0tNwk0wPw0m/view?usp=sharing)\n",
    "\n",
    "![alt text](Patrick-1-1.gif)\n"
   ]
  },
  {
   "cell_type": "markdown",
   "metadata": {},
   "source": [
    "That's it from me, thank you and have a good day!"
   ]
  }
 ],
 "metadata": {
  "kernelspec": {
   "display_name": "base",
   "language": "python",
   "name": "python3"
  },
  "language_info": {
   "codemirror_mode": {
    "name": "ipython",
    "version": 3
   },
   "file_extension": ".py",
   "mimetype": "text/x-python",
   "name": "python",
   "nbconvert_exporter": "python",
   "pygments_lexer": "ipython3",
   "version": "3.12.4"
  }
 },
 "nbformat": 4,
 "nbformat_minor": 2
}
